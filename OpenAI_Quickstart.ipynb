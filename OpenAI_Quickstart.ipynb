{
  "nbformat": 4,
  "nbformat_minor": 0,
  "metadata": {
    "colab": {
      "provenance": [],
      "include_colab_link": true
    },
    "kernelspec": {
      "name": "python3",
      "display_name": "Python 3"
    },
    "gpuClass": "standard"
  },
  "cells": [
    {
      "cell_type": "markdown",
      "metadata": {
        "id": "view-in-github",
        "colab_type": "text"
      },
      "source": [
        "<a href=\"https://colab.research.google.com/github/prithwis/openai-quickstart-python/blob/master/OpenAI_Quickstart.ipynb\" target=\"_parent\"><img src=\"https://colab.research.google.com/assets/colab-badge.svg\" alt=\"Open In Colab\"/></a>"
      ]
    },
    {
      "cell_type": "markdown",
      "metadata": {
        "id": "fAcxEwXbZPVb"
      },
      "source": [
        "![alt text](https://4.bp.blogspot.com/-gbL5nZDkpFQ/XScFYwoTEII/AAAAAAAAAGY/CcVb_HDLwvs2Brv5T4vSsUcz7O4r2Q79ACK4BGAYYCw/s1600/kk3-header00-beta.png)<br>\n",
        "\n",
        "\n",
        "<hr>\n",
        "\n",
        "[Prithwis Mukerjee](http://www.linkedin.com/in/prithwis)<br>"
      ]
    },
    {
      "cell_type": "markdown",
      "metadata": {
        "id": "eQPJOQXTb2y4"
      },
      "source": [
        "#Introduction"
      ]
    },
    {
      "cell_type": "markdown",
      "metadata": {
        "id": "tOULZNaBZ9Hi"
      },
      "source": [
        "##Get ngrok, OpenAI acces tokens"
      ]
    },
    {
      "cell_type": "markdown",
      "metadata": {
        "id": "PsGoGUdaWVc1"
      },
      "source": [
        "ngrok needs an authentication token. this can be easily hardcoded into this notebook ( as shown in one of the cells below) To avoid hardcoding -- and revealing the same in a public notebook -- the token is stored in Google Drive and accessed by mounting the G-Drive on the Colab VM <br>\n",
        "See \n",
        "\n",
        "\n",
        "1.   https://ngrok.com/ - login and create your free ID\n",
        "2.   https://dashboard.ngrok.com/get-started/setup - get your authtoken\n",
        "\n"
      ]
    },
    {
      "cell_type": "code",
      "metadata": {
        "id": "-cPJEPTlZHWZ",
        "colab": {
          "base_uri": "https://localhost:8080/"
        },
        "outputId": "09778c63-d52f-4089-920f-d377d74382aa"
      },
      "source": [
        "# If the ngrokToken is stored in a private file in GDrive, use this route\n",
        "from google.colab import drive\n",
        "drive.mount('/content/drive')\n",
        "\n",
        "#!ls /content/drive/'My Drive'/Praxis/WebCredentials\n",
        "!cp /content/drive/'My Drive'/Praxis/WebCredentials/ngrokToken.py .\n",
        "!cp /content/drive/'My Drive'/Praxis/WebCredentials/.env.openAI.registrations.21Dec22 ./.env\n",
        "# credential file for Prithwis Mukerjee\n",
        "# this file needs to be uploaded into the VM\n",
        "#!cat ngrokToken.py\n",
        "\n"
      ],
      "execution_count": 1,
      "outputs": [
        {
          "output_type": "stream",
          "name": "stdout",
          "text": [
            "Mounted at /content/drive\n"
          ]
        }
      ]
    },
    {
      "cell_type": "code",
      "source": [
        "#!ls -al\n",
        "#!cat .env"
      ],
      "metadata": {
        "id": "P0v296VgvBqd"
      },
      "execution_count": 4,
      "outputs": []
    },
    {
      "cell_type": "code",
      "metadata": {
        "id": "b9SSlpYOajyi"
      },
      "source": [
        "#otherwise, the values can be directly placed here\n",
        "\n",
        "#ngrokToken = '1kUOcwwwwwwwwRHsdVJRGMeTdddddddddddYbPZhxod'   # uncomment this line and place your own credentials here\n",
        "#token is available at https://dashboard.ngrok.com/get-started/setup\n",
        "\n",
        "\n",
        "#print(ngrokToken)\n",
        "\n"
      ],
      "execution_count": null,
      "outputs": []
    },
    {
      "cell_type": "code",
      "source": [
        "from ngrokToken import ngrokToken\n",
        "#ngrokTokenCmd = './ngrok authtoken '+ngrokToken    # Deprecated\n",
        "ngrokTokenCmd = 'ngrok authtoken '+ngrokToken"
      ],
      "metadata": {
        "id": "F302_AofA-_Z"
      },
      "execution_count": null,
      "outputs": []
    },
    {
      "cell_type": "code",
      "source": [
        "!wget https://raw.githubusercontent.com/prithwis/openai-quickstart-python/master/requirements.txt"
      ],
      "metadata": {
        "id": "CS4yCprgvtaz",
        "outputId": "24f27568-4511-4525-b7e4-5b232377bc26",
        "colab": {
          "base_uri": "https://localhost:8080/"
        }
      },
      "execution_count": 5,
      "outputs": [
        {
          "output_type": "stream",
          "name": "stdout",
          "text": [
            "--2022-12-21 08:14:20--  https://raw.githubusercontent.com/prithwis/openai-quickstart-python/master/requirements.txt\n",
            "Resolving raw.githubusercontent.com (raw.githubusercontent.com)... 185.199.110.133, 185.199.111.133, 185.199.109.133, ...\n",
            "Connecting to raw.githubusercontent.com (raw.githubusercontent.com)|185.199.110.133|:443... connected.\n",
            "HTTP request sent, awaiting response... 200 OK\n",
            "Length: 413 [text/plain]\n",
            "Saving to: ‘requirements.txt’\n",
            "\n",
            "\rrequirements.txt      0%[                    ]       0  --.-KB/s               \rrequirements.txt    100%[===================>]     413  --.-KB/s    in 0s      \n",
            "\n",
            "2022-12-21 08:14:20 (26.4 MB/s) - ‘requirements.txt’ saved [413/413]\n",
            "\n"
          ]
        }
      ]
    },
    {
      "cell_type": "code",
      "source": [
        "!pip install -r requirements.txt"
      ],
      "metadata": {
        "id": "JsHNsktDv7tG",
        "outputId": "12e43253-cdab-4544-b375-0ff04280825e",
        "colab": {
          "base_uri": "https://localhost:8080/",
          "height": 1000
        }
      },
      "execution_count": 6,
      "outputs": [
        {
          "output_type": "stream",
          "name": "stdout",
          "text": [
            "Looking in indexes: https://pypi.org/simple, https://us-python.pkg.dev/colab-wheels/public/simple/\n",
            "Collecting autopep8==1.6.0\n",
            "  Downloading autopep8-1.6.0-py2.py3-none-any.whl (45 kB)\n",
            "\u001b[K     |████████████████████████████████| 45 kB 1.8 MB/s \n",
            "\u001b[?25hCollecting certifi==2021.10.8\n",
            "  Downloading certifi-2021.10.8-py2.py3-none-any.whl (149 kB)\n",
            "\u001b[K     |████████████████████████████████| 149 kB 9.8 MB/s \n",
            "\u001b[?25hCollecting charset-normalizer==2.0.7\n",
            "  Downloading charset_normalizer-2.0.7-py3-none-any.whl (38 kB)\n",
            "Collecting click==8.0.3\n",
            "  Downloading click-8.0.3-py3-none-any.whl (97 kB)\n",
            "\u001b[K     |████████████████████████████████| 97 kB 6.8 MB/s \n",
            "\u001b[?25hRequirement already satisfied: et-xmlfile==1.1.0 in /usr/local/lib/python3.8/dist-packages (from -r requirements.txt (line 5)) (1.1.0)\n",
            "Collecting Flask==2.0.2\n",
            "  Downloading Flask-2.0.2-py3-none-any.whl (95 kB)\n",
            "\u001b[K     |████████████████████████████████| 95 kB 3.8 MB/s \n",
            "\u001b[?25hCollecting idna==3.3\n",
            "  Downloading idna-3.3-py3-none-any.whl (61 kB)\n",
            "\u001b[K     |████████████████████████████████| 61 kB 6.9 MB/s \n",
            "\u001b[?25hCollecting itsdangerous==2.0.1\n",
            "  Downloading itsdangerous-2.0.1-py3-none-any.whl (18 kB)\n",
            "Collecting Jinja2==3.0.2\n",
            "  Downloading Jinja2-3.0.2-py3-none-any.whl (133 kB)\n",
            "\u001b[K     |████████████████████████████████| 133 kB 75.3 MB/s \n",
            "\u001b[?25hRequirement already satisfied: MarkupSafe==2.0.1 in /usr/local/lib/python3.8/dist-packages (from -r requirements.txt (line 10)) (2.0.1)\n",
            "Collecting numpy==1.21.3\n",
            "  Downloading numpy-1.21.3-cp38-cp38-manylinux_2_12_x86_64.manylinux2010_x86_64.whl (15.7 MB)\n",
            "\u001b[K     |████████████████████████████████| 15.7 MB 48.4 MB/s \n",
            "\u001b[?25hCollecting openai==0.19.0\n",
            "  Downloading openai-0.19.0.tar.gz (42 kB)\n",
            "\u001b[K     |████████████████████████████████| 42 kB 834 kB/s \n",
            "\u001b[?25h  Installing build dependencies ... \u001b[?25l\u001b[?25hdone\n",
            "  Getting requirements to build wheel ... \u001b[?25l\u001b[?25hdone\n",
            "    Preparing wheel metadata ... \u001b[?25l\u001b[?25hdone\n",
            "Collecting openpyxl==3.0.9\n",
            "  Downloading openpyxl-3.0.9-py2.py3-none-any.whl (242 kB)\n",
            "\u001b[K     |████████████████████████████████| 242 kB 63.4 MB/s \n",
            "\u001b[?25hCollecting pandas==1.3.4\n",
            "  Downloading pandas-1.3.4-cp38-cp38-manylinux_2_17_x86_64.manylinux2014_x86_64.whl (11.5 MB)\n",
            "\u001b[K     |████████████████████████████████| 11.5 MB 57.3 MB/s \n",
            "\u001b[?25hCollecting pandas-stubs==1.2.0.35\n",
            "  Downloading pandas_stubs-1.2.0.35-py3-none-any.whl (159 kB)\n",
            "\u001b[K     |████████████████████████████████| 159 kB 72.8 MB/s \n",
            "\u001b[?25hCollecting pycodestyle==2.8.0\n",
            "  Downloading pycodestyle-2.8.0-py2.py3-none-any.whl (42 kB)\n",
            "\u001b[K     |████████████████████████████████| 42 kB 879 kB/s \n",
            "\u001b[?25hRequirement already satisfied: python-dateutil==2.8.2 in /usr/local/lib/python3.8/dist-packages (from -r requirements.txt (line 17)) (2.8.2)\n",
            "Collecting python-dotenv==0.19.2\n",
            "  Downloading python_dotenv-0.19.2-py2.py3-none-any.whl (17 kB)\n",
            "Collecting pytz==2021.3\n",
            "  Downloading pytz-2021.3-py2.py3-none-any.whl (503 kB)\n",
            "\u001b[K     |████████████████████████████████| 503 kB 57.5 MB/s \n",
            "\u001b[?25hCollecting requests==2.26.0\n",
            "  Downloading requests-2.26.0-py2.py3-none-any.whl (62 kB)\n",
            "\u001b[K     |████████████████████████████████| 62 kB 791 kB/s \n",
            "\u001b[?25hCollecting six==1.16.0\n",
            "  Downloading six-1.16.0-py2.py3-none-any.whl (11 kB)\n",
            "Requirement already satisfied: toml==0.10.2 in /usr/local/lib/python3.8/dist-packages (from -r requirements.txt (line 22)) (0.10.2)\n",
            "Collecting tqdm==4.62.3\n",
            "  Downloading tqdm-4.62.3-py2.py3-none-any.whl (76 kB)\n",
            "\u001b[K     |████████████████████████████████| 76 kB 5.6 MB/s \n",
            "\u001b[?25hCollecting urllib3==1.26.7\n",
            "  Downloading urllib3-1.26.7-py2.py3-none-any.whl (138 kB)\n",
            "\u001b[K     |████████████████████████████████| 138 kB 69.8 MB/s \n",
            "\u001b[?25hCollecting Werkzeug==2.0.2\n",
            "  Downloading Werkzeug-2.0.2-py3-none-any.whl (288 kB)\n",
            "\u001b[K     |████████████████████████████████| 288 kB 74.7 MB/s \n",
            "\u001b[?25hBuilding wheels for collected packages: openai\n",
            "  Building wheel for openai (PEP 517) ... \u001b[?25l\u001b[?25hdone\n",
            "  Created wheel for openai: filename=openai-0.19.0-py3-none-any.whl size=53533 sha256=2ac374ba2113a3933bdc3e06c0832901270931f05d8140717626132e5ad85001\n",
            "  Stored in directory: /root/.cache/pip/wheels/a0/1c/c6/e258dd9f51667f810902504b9bdeeeb4f2298f72effc65bc2c\n",
            "Successfully built openai\n",
            "Installing collected packages: six, urllib3, pytz, numpy, idna, charset-normalizer, certifi, Werkzeug, tqdm, requests, pycodestyle, pandas-stubs, pandas, openpyxl, Jinja2, itsdangerous, click, python-dotenv, openai, Flask, autopep8\n",
            "  Attempting uninstall: six\n",
            "    Found existing installation: six 1.15.0\n",
            "    Uninstalling six-1.15.0:\n",
            "      Successfully uninstalled six-1.15.0\n",
            "  Attempting uninstall: urllib3\n",
            "    Found existing installation: urllib3 1.24.3\n",
            "    Uninstalling urllib3-1.24.3:\n",
            "      Successfully uninstalled urllib3-1.24.3\n",
            "  Attempting uninstall: pytz\n",
            "    Found existing installation: pytz 2022.6\n",
            "    Uninstalling pytz-2022.6:\n",
            "      Successfully uninstalled pytz-2022.6\n",
            "  Attempting uninstall: numpy\n",
            "    Found existing installation: numpy 1.21.6\n",
            "    Uninstalling numpy-1.21.6:\n",
            "      Successfully uninstalled numpy-1.21.6\n",
            "  Attempting uninstall: idna\n",
            "    Found existing installation: idna 2.10\n",
            "    Uninstalling idna-2.10:\n",
            "      Successfully uninstalled idna-2.10\n",
            "  Attempting uninstall: charset-normalizer\n",
            "    Found existing installation: charset-normalizer 2.1.1\n",
            "    Uninstalling charset-normalizer-2.1.1:\n",
            "      Successfully uninstalled charset-normalizer-2.1.1\n",
            "  Attempting uninstall: certifi\n",
            "    Found existing installation: certifi 2022.12.7\n",
            "    Uninstalling certifi-2022.12.7:\n",
            "      Successfully uninstalled certifi-2022.12.7\n",
            "  Attempting uninstall: Werkzeug\n",
            "    Found existing installation: Werkzeug 1.0.1\n",
            "    Uninstalling Werkzeug-1.0.1:\n",
            "      Successfully uninstalled Werkzeug-1.0.1\n",
            "  Attempting uninstall: tqdm\n",
            "    Found existing installation: tqdm 4.64.1\n",
            "    Uninstalling tqdm-4.64.1:\n",
            "      Successfully uninstalled tqdm-4.64.1\n",
            "  Attempting uninstall: requests\n",
            "    Found existing installation: requests 2.23.0\n",
            "    Uninstalling requests-2.23.0:\n",
            "      Successfully uninstalled requests-2.23.0\n",
            "  Attempting uninstall: pandas\n",
            "    Found existing installation: pandas 1.3.5\n",
            "    Uninstalling pandas-1.3.5:\n",
            "      Successfully uninstalled pandas-1.3.5\n",
            "  Attempting uninstall: openpyxl\n",
            "    Found existing installation: openpyxl 3.0.10\n",
            "    Uninstalling openpyxl-3.0.10:\n",
            "      Successfully uninstalled openpyxl-3.0.10\n",
            "  Attempting uninstall: Jinja2\n",
            "    Found existing installation: Jinja2 2.11.3\n",
            "    Uninstalling Jinja2-2.11.3:\n",
            "      Successfully uninstalled Jinja2-2.11.3\n",
            "  Attempting uninstall: itsdangerous\n",
            "    Found existing installation: itsdangerous 1.1.0\n",
            "    Uninstalling itsdangerous-1.1.0:\n",
            "      Successfully uninstalled itsdangerous-1.1.0\n",
            "  Attempting uninstall: click\n",
            "    Found existing installation: click 7.1.2\n",
            "    Uninstalling click-7.1.2:\n",
            "      Successfully uninstalled click-7.1.2\n",
            "  Attempting uninstall: Flask\n",
            "    Found existing installation: Flask 1.1.4\n",
            "    Uninstalling Flask-1.1.4:\n",
            "      Successfully uninstalled Flask-1.1.4\n",
            "\u001b[31mERROR: pip's dependency resolver does not currently take into account all the packages that are installed. This behaviour is the source of the following dependency conflicts.\n",
            "ipython 7.9.0 requires jedi>=0.10, which is not installed.\n",
            "notebook 5.7.16 requires jinja2<=3.0.0, but you have jinja2 3.0.2 which is incompatible.\u001b[0m\n",
            "Successfully installed Flask-2.0.2 Jinja2-3.0.2 Werkzeug-2.0.2 autopep8-1.6.0 certifi-2021.10.8 charset-normalizer-2.0.7 click-8.0.3 idna-3.3 itsdangerous-2.0.1 numpy-1.21.3 openai-0.19.0 openpyxl-3.0.9 pandas-1.3.4 pandas-stubs-1.2.0.35 pycodestyle-2.8.0 python-dotenv-0.19.2 pytz-2021.3 requests-2.26.0 six-1.16.0 tqdm-4.62.3 urllib3-1.26.7\n"
          ]
        },
        {
          "output_type": "display_data",
          "data": {
            "application/vnd.colab-display-data+json": {
              "pip_warning": {
                "packages": [
                  "certifi",
                  "numpy",
                  "six"
                ]
              }
            }
          },
          "metadata": {}
        }
      ]
    },
    {
      "cell_type": "markdown",
      "metadata": {
        "id": "G7CmUsI_oT34"
      },
      "source": [
        "##Install ngrok using Python wrapper <br>\n",
        "this code adapted from https://towardsdatascience.com/quickly-share-ml-webapps-from-google-colab-using-ngrok-for-free-ae899ca2661a"
      ]
    },
    {
      "cell_type": "code",
      "metadata": {
        "id": "ZkGDRme4opqW",
        "colab": {
          "base_uri": "https://localhost:8080/"
        },
        "outputId": "6db350cd-a582-4477-ee80-d248feaa42af"
      },
      "source": [
        "!pip -q install pyngrok"
      ],
      "execution_count": 1,
      "outputs": [
        {
          "output_type": "stream",
          "name": "stdout",
          "text": [
            "\u001b[?25l\r\u001b[K     |▍                               | 10 kB 23.3 MB/s eta 0:00:01\r\u001b[K     |▉                               | 20 kB 5.7 MB/s eta 0:00:01\r\u001b[K     |█▎                              | 30 kB 7.8 MB/s eta 0:00:01\r\u001b[K     |█▊                              | 40 kB 5.0 MB/s eta 0:00:01\r\u001b[K     |██▏                             | 51 kB 4.9 MB/s eta 0:00:01\r\u001b[K     |██▋                             | 61 kB 5.8 MB/s eta 0:00:01\r\u001b[K     |███                             | 71 kB 6.2 MB/s eta 0:00:01\r\u001b[K     |███▍                            | 81 kB 5.9 MB/s eta 0:00:01\r\u001b[K     |███▉                            | 92 kB 6.6 MB/s eta 0:00:01\r\u001b[K     |████▎                           | 102 kB 5.3 MB/s eta 0:00:01\r\u001b[K     |████▊                           | 112 kB 5.3 MB/s eta 0:00:01\r\u001b[K     |█████▏                          | 122 kB 5.3 MB/s eta 0:00:01\r\u001b[K     |█████▋                          | 133 kB 5.3 MB/s eta 0:00:01\r\u001b[K     |██████                          | 143 kB 5.3 MB/s eta 0:00:01\r\u001b[K     |██████▌                         | 153 kB 5.3 MB/s eta 0:00:01\r\u001b[K     |██████▉                         | 163 kB 5.3 MB/s eta 0:00:01\r\u001b[K     |███████▎                        | 174 kB 5.3 MB/s eta 0:00:01\r\u001b[K     |███████▊                        | 184 kB 5.3 MB/s eta 0:00:01\r\u001b[K     |████████▏                       | 194 kB 5.3 MB/s eta 0:00:01\r\u001b[K     |████████▋                       | 204 kB 5.3 MB/s eta 0:00:01\r\u001b[K     |█████████                       | 215 kB 5.3 MB/s eta 0:00:01\r\u001b[K     |█████████▌                      | 225 kB 5.3 MB/s eta 0:00:01\r\u001b[K     |██████████                      | 235 kB 5.3 MB/s eta 0:00:01\r\u001b[K     |██████████▎                     | 245 kB 5.3 MB/s eta 0:00:01\r\u001b[K     |██████████▊                     | 256 kB 5.3 MB/s eta 0:00:01\r\u001b[K     |███████████▏                    | 266 kB 5.3 MB/s eta 0:00:01\r\u001b[K     |███████████▋                    | 276 kB 5.3 MB/s eta 0:00:01\r\u001b[K     |████████████                    | 286 kB 5.3 MB/s eta 0:00:01\r\u001b[K     |████████████▌                   | 296 kB 5.3 MB/s eta 0:00:01\r\u001b[K     |█████████████                   | 307 kB 5.3 MB/s eta 0:00:01\r\u001b[K     |█████████████▍                  | 317 kB 5.3 MB/s eta 0:00:01\r\u001b[K     |█████████████▊                  | 327 kB 5.3 MB/s eta 0:00:01\r\u001b[K     |██████████████▏                 | 337 kB 5.3 MB/s eta 0:00:01\r\u001b[K     |██████████████▋                 | 348 kB 5.3 MB/s eta 0:00:01\r\u001b[K     |███████████████                 | 358 kB 5.3 MB/s eta 0:00:01\r\u001b[K     |███████████████▌                | 368 kB 5.3 MB/s eta 0:00:01\r\u001b[K     |████████████████                | 378 kB 5.3 MB/s eta 0:00:01\r\u001b[K     |████████████████▍               | 389 kB 5.3 MB/s eta 0:00:01\r\u001b[K     |████████████████▉               | 399 kB 5.3 MB/s eta 0:00:01\r\u001b[K     |█████████████████▏              | 409 kB 5.3 MB/s eta 0:00:01\r\u001b[K     |█████████████████▋              | 419 kB 5.3 MB/s eta 0:00:01\r\u001b[K     |██████████████████              | 430 kB 5.3 MB/s eta 0:00:01\r\u001b[K     |██████████████████▌             | 440 kB 5.3 MB/s eta 0:00:01\r\u001b[K     |███████████████████             | 450 kB 5.3 MB/s eta 0:00:01\r\u001b[K     |███████████████████▍            | 460 kB 5.3 MB/s eta 0:00:01\r\u001b[K     |███████████████████▉            | 471 kB 5.3 MB/s eta 0:00:01\r\u001b[K     |████████████████████▎           | 481 kB 5.3 MB/s eta 0:00:01\r\u001b[K     |████████████████████▋           | 491 kB 5.3 MB/s eta 0:00:01\r\u001b[K     |█████████████████████           | 501 kB 5.3 MB/s eta 0:00:01\r\u001b[K     |█████████████████████▌          | 512 kB 5.3 MB/s eta 0:00:01\r\u001b[K     |██████████████████████          | 522 kB 5.3 MB/s eta 0:00:01\r\u001b[K     |██████████████████████▍         | 532 kB 5.3 MB/s eta 0:00:01\r\u001b[K     |██████████████████████▉         | 542 kB 5.3 MB/s eta 0:00:01\r\u001b[K     |███████████████████████▎        | 552 kB 5.3 MB/s eta 0:00:01\r\u001b[K     |███████████████████████▊        | 563 kB 5.3 MB/s eta 0:00:01\r\u001b[K     |████████████████████████        | 573 kB 5.3 MB/s eta 0:00:01\r\u001b[K     |████████████████████████▌       | 583 kB 5.3 MB/s eta 0:00:01\r\u001b[K     |█████████████████████████       | 593 kB 5.3 MB/s eta 0:00:01\r\u001b[K     |█████████████████████████▍      | 604 kB 5.3 MB/s eta 0:00:01\r\u001b[K     |█████████████████████████▉      | 614 kB 5.3 MB/s eta 0:00:01\r\u001b[K     |██████████████████████████▎     | 624 kB 5.3 MB/s eta 0:00:01\r\u001b[K     |██████████████████████████▊     | 634 kB 5.3 MB/s eta 0:00:01\r\u001b[K     |███████████████████████████▏    | 645 kB 5.3 MB/s eta 0:00:01\r\u001b[K     |███████████████████████████▌    | 655 kB 5.3 MB/s eta 0:00:01\r\u001b[K     |████████████████████████████    | 665 kB 5.3 MB/s eta 0:00:01\r\u001b[K     |████████████████████████████▍   | 675 kB 5.3 MB/s eta 0:00:01\r\u001b[K     |████████████████████████████▉   | 686 kB 5.3 MB/s eta 0:00:01\r\u001b[K     |█████████████████████████████▎  | 696 kB 5.3 MB/s eta 0:00:01\r\u001b[K     |█████████████████████████████▊  | 706 kB 5.3 MB/s eta 0:00:01\r\u001b[K     |██████████████████████████████▏ | 716 kB 5.3 MB/s eta 0:00:01\r\u001b[K     |██████████████████████████████▋ | 727 kB 5.3 MB/s eta 0:00:01\r\u001b[K     |███████████████████████████████ | 737 kB 5.3 MB/s eta 0:00:01\r\u001b[K     |███████████████████████████████▍| 747 kB 5.3 MB/s eta 0:00:01\r\u001b[K     |███████████████████████████████▉| 757 kB 5.3 MB/s eta 0:00:01\r\u001b[K     |████████████████████████████████| 761 kB 5.3 MB/s \n",
            "\u001b[?25h  Building wheel for pyngrok (setup.py) ... \u001b[?25l\u001b[?25hdone\n"
          ]
        }
      ]
    },
    {
      "cell_type": "code",
      "metadata": {
        "id": "9AYyUZ89pJNW"
      },
      "source": [
        "from ngrokToken import ngrokToken\n",
        "#ngrokTokenCmd = './ngrok authtoken '+ngrokToken    # Deprecated\n",
        "ngrokTokenCmd = 'ngrok authtoken '+ngrokToken\n",
        "\n",
        "#install the ngrok token \n",
        "from pyngrok import ngrok\n",
        "get_ipython().system_raw(ngrokTokenCmd)"
      ],
      "execution_count": 3,
      "outputs": []
    },
    {
      "cell_type": "markdown",
      "source": [
        "#Web Apps\n",
        "Here we build python flask web apps that can be called as an API<br>\n",
        "Before running any WebApp, we need to create an ngrok TUNNEL that will connect the port defined in the webapp to the external URL through a public URL"
      ],
      "metadata": {
        "id": "q1r4mxQZz1f8"
      }
    },
    {
      "cell_type": "markdown",
      "metadata": {
        "id": "lzVGEgEbcxbg"
      },
      "source": [
        "##WebApp 01 - Hello World <br>\n",
        "Basic application that simply shows the webserver is working.\n",
        "<hr>\n"
      ]
    },
    {
      "cell_type": "markdown",
      "metadata": {
        "id": "lgDAZRTSWyK2"
      },
      "source": [
        "Web apps need additionl files for HTML, images, data etc that need to be stored on appropriate directories. These files can either be created in a local machine and uploaded into the appropriate directory, or ( as is being done here) copied from files stored in Github. <br>\n",
        "These files need to be stored in specific subdirectories. We create sub-directories, download the files from Github / GDrive and then move them to the required sub directories"
      ]
    },
    {
      "cell_type": "code",
      "metadata": {
        "id": "Me8szMxyj1ol",
        "outputId": "e1aabfee-c978-442d-fac2-73467bd46fe5",
        "colab": {
          "base_uri": "https://localhost:8080/"
        }
      },
      "source": [
        "# Create new directory template\n",
        "!mkdir templates\n",
        "\n",
        "!wget https://raw.githubusercontent.com/prithwis/openai-quickstart-python/master/templates/index.html\n",
        "\n",
        "!mv *.html templates/\n",
        "#!cat templates/home.html"
      ],
      "execution_count": 4,
      "outputs": [
        {
          "output_type": "stream",
          "name": "stdout",
          "text": [
            "--2022-12-21 08:20:54--  https://raw.githubusercontent.com/prithwis/openai-quickstart-python/master/templates/index.html\n",
            "Resolving raw.githubusercontent.com (raw.githubusercontent.com)... 185.199.108.133, 185.199.109.133, 185.199.110.133, ...\n",
            "Connecting to raw.githubusercontent.com (raw.githubusercontent.com)|185.199.108.133|:443... connected.\n",
            "HTTP request sent, awaiting response... 200 OK\n",
            "Length: 597 [text/plain]\n",
            "Saving to: ‘index.html’\n",
            "\n",
            "\rindex.html            0%[                    ]       0  --.-KB/s               \rindex.html          100%[===================>]     597  --.-KB/s    in 0s      \n",
            "\n",
            "2022-12-21 08:20:54 (41.7 MB/s) - ‘index.html’ saved [597/597]\n",
            "\n"
          ]
        }
      ]
    },
    {
      "cell_type": "code",
      "source": [
        "# new directory for images\n",
        "!mkdir static\n",
        "\n",
        "!wget https://raw.githubusercontent.com/openai/openai-quickstart-python/master/static/main.css\n",
        "!wget https://github.com/openai/openai-quickstart-python/raw/master/static/dog.png\n",
        "\n",
        "!mv *.css static/\n",
        "!mv *.png static/"
      ],
      "metadata": {
        "id": "QNfokbEQxBEi",
        "outputId": "9858469c-fa89-47fd-cbf4-62da17691d07",
        "colab": {
          "base_uri": "https://localhost:8080/"
        }
      },
      "execution_count": 5,
      "outputs": [
        {
          "output_type": "stream",
          "name": "stdout",
          "text": [
            "--2022-12-21 08:23:41--  https://raw.githubusercontent.com/openai/openai-quickstart-python/master/static/main.css\n",
            "Resolving raw.githubusercontent.com (raw.githubusercontent.com)... 185.199.110.133, 185.199.111.133, 185.199.109.133, ...\n",
            "Connecting to raw.githubusercontent.com (raw.githubusercontent.com)|185.199.110.133|:443... connected.\n",
            "HTTP request sent, awaiting response... 200 OK\n",
            "Length: 1309 (1.3K) [text/plain]\n",
            "Saving to: ‘main.css’\n",
            "\n",
            "\rmain.css              0%[                    ]       0  --.-KB/s               \rmain.css            100%[===================>]   1.28K  --.-KB/s    in 0s      \n",
            "\n",
            "2022-12-21 08:23:42 (47.1 MB/s) - ‘main.css’ saved [1309/1309]\n",
            "\n",
            "--2022-12-21 08:23:42--  https://github.com/openai/openai-quickstart-python/raw/master/static/dog.png\n",
            "Resolving github.com (github.com)... 140.82.114.3\n",
            "Connecting to github.com (github.com)|140.82.114.3|:443... connected.\n",
            "HTTP request sent, awaiting response... 302 Found\n",
            "Location: https://raw.githubusercontent.com/openai/openai-quickstart-python/master/static/dog.png [following]\n",
            "--2022-12-21 08:23:42--  https://raw.githubusercontent.com/openai/openai-quickstart-python/master/static/dog.png\n",
            "Resolving raw.githubusercontent.com (raw.githubusercontent.com)... 185.199.108.133, 185.199.109.133, 185.199.110.133, ...\n",
            "Connecting to raw.githubusercontent.com (raw.githubusercontent.com)|185.199.108.133|:443... connected.\n",
            "HTTP request sent, awaiting response... 200 OK\n",
            "Length: 1746 (1.7K) [image/png]\n",
            "Saving to: ‘dog.png’\n",
            "\n",
            "dog.png             100%[===================>]   1.71K  --.-KB/s    in 0s      \n",
            "\n",
            "2022-12-21 08:23:42 (20.0 MB/s) - ‘dog.png’ saved [1746/1746]\n",
            "\n"
          ]
        }
      ]
    },
    {
      "cell_type": "code",
      "metadata": {
        "id": "48fn0ycSl4NA",
        "colab": {
          "base_uri": "https://localhost:8080/"
        },
        "outputId": "932890b2-ea36-4d19-ac81-01d47e7f2c0e"
      },
      "source": [
        "# visit the public_url/home to see the index page\n",
        "public_url = ngrok.connect(5000)                        \n",
        "public_url\n"
      ],
      "execution_count": 9,
      "outputs": [
        {
          "output_type": "execute_result",
          "data": {
            "text/plain": [
              "<NgrokTunnel: \"http://f5a5-34-136-220-36.ngrok.io\" -> \"http://localhost:5000\">"
            ]
          },
          "metadata": {},
          "execution_count": 9
        }
      ]
    },
    {
      "cell_type": "code",
      "source": [
        "def generate_prompt(animal):\n",
        "    return \"\"\"Suggest three names for an animal that is a superhero.\n",
        "\n",
        "Animal: Cat\n",
        "Names: Captain Sharpclaw, Agent Fluffball, The Incredible Feline\n",
        "Animal: Dog\n",
        "Names: Ruff the Protector, Wonder Canine, Sir Barks-a-Lot\n",
        "Animal: {}\n",
        "Names:\"\"\".format(\n",
        "        animal.capitalize()\n",
        "    )"
      ],
      "metadata": {
        "id": "ChEfkHu-y32O"
      },
      "execution_count": 6,
      "outputs": []
    },
    {
      "cell_type": "code",
      "source": [
        "import os\n",
        "\n",
        "import openai\n",
        "from flask import Flask, redirect, render_template, request, url_for\n",
        "\n",
        "app = Flask(__name__)\n",
        "openai.api_key = os.getenv(\"OPENAI_API_KEY\")\n",
        "\n",
        "\n",
        "@app.route(\"/\", methods=(\"GET\", \"POST\"))\n",
        "def index():\n",
        "    if request.method == \"POST\":\n",
        "        animal = request.form[\"animal\"]\n",
        "        response = openai.Completion.create(\n",
        "            model=\"text-davinci-002\",\n",
        "            prompt=generate_prompt(animal),\n",
        "            temperature=0.6,\n",
        "        )\n",
        "        return redirect(url_for(\"index\", result=response.choices[0].text))\n",
        "\n",
        "    result = request.args.get(\"result\")\n",
        "    return render_template(\"index.html\", result=result)\n",
        "\n",
        "if __name__ == \"__main__\":\n",
        "    app.run(host=\"0.0.0.0\")\n"
      ],
      "metadata": {
        "id": "AWRCBIuHycL8",
        "outputId": "92867696-d576-4fd6-f25a-ccf44946b815",
        "colab": {
          "base_uri": "https://localhost:8080/"
        }
      },
      "execution_count": 10,
      "outputs": [
        {
          "output_type": "stream",
          "name": "stdout",
          "text": [
            " * Serving Flask app '__main__' (lazy loading)\n",
            " * Environment: development\n",
            " * Debug mode: on\n"
          ]
        },
        {
          "output_type": "stream",
          "name": "stderr",
          "text": [
            "WARNING:werkzeug: * Running on all addresses.\n",
            "   WARNING: This is a development server. Do not use it in a production deployment.\n",
            "INFO:werkzeug: * Running on http://172.28.0.12:5000/ (Press CTRL+C to quit)\n",
            "INFO:werkzeug: * Restarting with stat\n"
          ]
        }
      ]
    },
    {
      "cell_type": "code",
      "metadata": {
        "id": "iWWOvecLllng",
        "colab": {
          "base_uri": "https://localhost:8080/"
        },
        "outputId": "b5a778c9-e02d-474e-d8a7-210d0e20c2dc"
      },
      "source": [
        "# https://pythonspot.com/flask-web-app-with-python/\n",
        "\n",
        "from sys import argv\n",
        "from flask import Flask, flash, redirect, render_template, request, session, abort\n",
        "\n",
        "app = Flask(__name__)\n",
        "scriptName = argv[0]\n",
        "\n",
        "@app.route(\"/\")\n",
        "def hello():\n",
        "    retString = 'WebApp02 now running ... '+scriptName\n",
        "    return retString\n",
        "\n",
        "@app.route('/home')\n",
        "def home():\n",
        "    return render_template('home.html')\n",
        "\n",
        "\n",
        "if __name__ == \"__main__\":\n",
        "    app.run(host=\"0.0.0.0\")"
      ],
      "execution_count": null,
      "outputs": [
        {
          "output_type": "stream",
          "name": "stdout",
          "text": [
            " * Serving Flask app \"__main__\" (lazy loading)\n",
            " * Environment: production\n",
            "\u001b[31m   WARNING: This is a development server. Do not use it in a production deployment.\u001b[0m\n",
            "\u001b[2m   Use a production WSGI server instead.\u001b[0m\n",
            " * Debug mode: off\n"
          ]
        },
        {
          "output_type": "stream",
          "name": "stderr",
          "text": [
            " * Running on http://0.0.0.0:5000/ (Press CTRL+C to quit)\n",
            "127.0.0.1 - - [27/Jul/2022 13:17:20] \"\u001b[37mGET / HTTP/1.1\u001b[0m\" 200 -\n",
            "127.0.0.1 - - [27/Jul/2022 13:17:20] \"\u001b[33mGET /favicon.ico HTTP/1.1\u001b[0m\" 404 -\n",
            "127.0.0.1 - - [27/Jul/2022 13:17:28] \"\u001b[37mGET /home HTTP/1.1\u001b[0m\" 200 -\n",
            "127.0.0.1 - - [27/Jul/2022 13:17:28] \"\u001b[33mGET /favicon.ico HTTP/1.1\u001b[0m\" 404 -\n"
          ]
        }
      ]
    },
    {
      "cell_type": "markdown",
      "metadata": {
        "id": "tw00lLMTmt9m"
      },
      "source": [
        "##WebApp 03 - HTML pages with image"
      ]
    },
    {
      "cell_type": "markdown",
      "source": [
        "![alt text](https://raw.githubusercontent.com/Praxis-QR/DEMD/main/screenshots/webapp03.png)<br>"
      ],
      "metadata": {
        "id": "j8KQUfNZ1Fhz"
      }
    },
    {
      "cell_type": "code",
      "metadata": {
        "id": "uOOorm-amzNO"
      },
      "source": [
        "# new directory for images\n",
        "!mkdir static\n",
        "\n",
        "#!gdown https://drive.google.com/uc?id=1dEcZxMotndHNglu14240GYBgLdIYaTcB\n",
        "#!gdown https://drive.google.com/uc?id=1cImOiQvpE61c6Wy074Ly1E_yBVaDr5-f\n",
        "#!gdown https://drive.google.com/uc?id=1ohWMGJyl79xpVJ64yO8qFlCpgH08v71t\n",
        "\n",
        "# Pulling from GitHub\n",
        "\n",
        "\n",
        "!wget -q https://github.com/Praxis-bs/DEMD/raw/main/static/kkpraxis.png\n",
        "!wget -q https://raw.githubusercontent.com/Praxis-bs/DEMD/main/templates/work01.html\n",
        "!wget -q https://raw.githubusercontent.com/Praxis-bs/DEMD/main/templates/work02.html\n",
        "\n",
        "!mv kkpraxis.png static/\n",
        "!mv *.html templates/"
      ],
      "execution_count": null,
      "outputs": []
    },
    {
      "cell_type": "code",
      "metadata": {
        "id": "vpN8EULMqWLL",
        "outputId": "ae5579bd-9d50-49bf-bd1c-109d33920fc6",
        "colab": {
          "base_uri": "https://localhost:8080/"
        }
      },
      "source": [
        "# visit the public_url/home to see the index page\n",
        "# visit the public_url/datatext/some text data  --- to see \n",
        "# visit the public_url/datanumber/10  --- to see how integer data is processed \n",
        "\n",
        "public_url = ngrok.connect(5000)                        # option 2\n",
        "public_url\n"
      ],
      "execution_count": null,
      "outputs": [
        {
          "output_type": "execute_result",
          "data": {
            "text/plain": [
              "<NgrokTunnel: \"http://96d2-34-75-146-12.ngrok.io\" -> \"http://localhost:5000\">"
            ]
          },
          "metadata": {},
          "execution_count": 11
        }
      ]
    },
    {
      "cell_type": "code",
      "metadata": {
        "id": "imwY40BGqNDR",
        "outputId": "e6fb6b12-1d24-4230-dce3-088b51039b04",
        "colab": {
          "base_uri": "https://localhost:8080/"
        }
      },
      "source": [
        "# https://pythonspot.com/flask-web-app-with-python/\n",
        "\n",
        "from sys import argv\n",
        "from flask import Flask, flash, redirect, render_template, request, session, abort\n",
        "\n",
        "app = Flask(__name__)\n",
        "scriptName = argv[0]\n",
        "\n",
        "@app.route(\"/\")\n",
        "def hello():\n",
        "    retString = 'WebApp 03 now running ... '+scriptName\n",
        "    return retString\n",
        "\n",
        "@app.route('/home')\n",
        "def home():\n",
        "    return render_template('home.html')\n",
        "\n",
        "@app.route('/datatext/<inputText>')\n",
        "def say_hello(inputText):\n",
        "    return render_template('work01.html',text_data=inputText)\n",
        "\n",
        "@app.route('/datanumber/<int:inputInt>')\n",
        "def data_input(inputInt):\n",
        "    newVar = 2 * inputInt\n",
        "    return render_template('work02.html',int_data=newVar)\n",
        "\n",
        "\n",
        "if __name__ == \"__main__\":\n",
        "    app.run(host=\"0.0.0.0\")"
      ],
      "execution_count": null,
      "outputs": [
        {
          "output_type": "stream",
          "name": "stdout",
          "text": [
            " * Serving Flask app \"__main__\" (lazy loading)\n",
            " * Environment: production\n",
            "\u001b[31m   WARNING: This is a development server. Do not use it in a production deployment.\u001b[0m\n",
            "\u001b[2m   Use a production WSGI server instead.\u001b[0m\n",
            " * Debug mode: off\n"
          ]
        },
        {
          "output_type": "stream",
          "name": "stderr",
          "text": [
            " * Running on http://0.0.0.0:5000/ (Press CTRL+C to quit)\n",
            "127.0.0.1 - - [27/Jul/2022 13:21:38] \"\u001b[37mGET / HTTP/1.1\u001b[0m\" 200 -\n",
            "127.0.0.1 - - [27/Jul/2022 13:21:39] \"\u001b[33mGET /favicon.ico HTTP/1.1\u001b[0m\" 404 -\n",
            "127.0.0.1 - - [27/Jul/2022 13:21:46] \"\u001b[37mGET /home HTTP/1.1\u001b[0m\" 200 -\n",
            "127.0.0.1 - - [27/Jul/2022 13:21:46] \"\u001b[33mGET /favicon.ico HTTP/1.1\u001b[0m\" 404 -\n",
            "127.0.0.1 - - [27/Jul/2022 13:22:18] \"\u001b[37mGET /datatext/Celebrate%20Your%20Worth%20at%20Praxis HTTP/1.1\u001b[0m\" 200 -\n",
            "127.0.0.1 - - [27/Jul/2022 13:22:18] \"\u001b[37mGET /static/kkpraxis.png HTTP/1.1\u001b[0m\" 200 -\n"
          ]
        }
      ]
    },
    {
      "cell_type": "markdown",
      "metadata": {
        "id": "W3qK5YHXZWqT"
      },
      "source": [
        "#Chronobooks <br>\n",
        "![alt text](https://1.bp.blogspot.com/-lTiYBkU2qbU/X1er__fvnkI/AAAAAAAAjtE/GhDR3OEGJr4NG43fZPodrQD5kbxtnKebgCLcBGAsYHQ/s600/Footer2020-600x200.png)<hr>\n",
        "Chronotantra and Chronoyantra are two science fiction novels that explore the collapse of human civilisation on Earth and then its rebirth and reincarnation both on Earth as well as on the distant worlds of Mars, Titan and Enceladus. But is it the human civilisation that is being reborn? Or is it some other sentience that is revealing itself. \n",
        "If you have an interest in AI and found this material useful, you may consider buying these novels, in paperback or kindle, from [http://bit.ly/chronobooks](http://bit.ly/chronobooks)"
      ]
    }
  ]
}