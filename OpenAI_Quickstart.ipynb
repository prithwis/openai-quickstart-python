{
  "nbformat": 4,
  "nbformat_minor": 0,
  "metadata": {
    "colab": {
      "provenance": [],
      "toc_visible": true,
      "include_colab_link": true
    },
    "kernelspec": {
      "name": "python3",
      "display_name": "Python 3"
    },
    "gpuClass": "standard"
  },
  "cells": [
    {
      "cell_type": "markdown",
      "metadata": {
        "id": "view-in-github",
        "colab_type": "text"
      },
      "source": [
        "<a href=\"https://colab.research.google.com/github/prithwis/openai-quickstart-python/blob/master/OpenAI_Quickstart.ipynb\" target=\"_parent\"><img src=\"https://colab.research.google.com/assets/colab-badge.svg\" alt=\"Open In Colab\"/></a>"
      ]
    },
    {
      "cell_type": "markdown",
      "metadata": {
        "id": "fAcxEwXbZPVb"
      },
      "source": [
        "![alt text](https://4.bp.blogspot.com/-gbL5nZDkpFQ/XScFYwoTEII/AAAAAAAAAGY/CcVb_HDLwvs2Brv5T4vSsUcz7O4r2Q79ACK4BGAYYCw/s1600/kk3-header00-beta.png)<br>\n",
        "\n",
        "\n",
        "<hr>\n",
        "\n",
        "[Prithwis Mukerjee](http://www.linkedin.com/in/prithwis)<br>"
      ]
    },
    {
      "cell_type": "markdown",
      "metadata": {
        "id": "eQPJOQXTb2y4"
      },
      "source": [
        "#Introduction"
      ]
    },
    {
      "cell_type": "markdown",
      "metadata": {
        "id": "tOULZNaBZ9Hi"
      },
      "source": [
        "##Get, Install ngrok access token"
      ]
    },
    {
      "cell_type": "markdown",
      "metadata": {
        "id": "PsGoGUdaWVc1"
      },
      "source": [
        "ngrok needs an authentication token. this can be easily hardcoded into this notebook ( as shown in one of the cells below) To avoid hardcoding -- and revealing the same in a public notebook -- the token is stored in Google Drive and accessed by mounting the G-Drive on the Colab VM <br>\n",
        "See \n",
        "\n",
        "\n",
        "1.   https://ngrok.com/ - login and create your free ID\n",
        "2.   https://dashboard.ngrok.com/get-started/setup - get your authtoken\n",
        "\n"
      ]
    },
    {
      "cell_type": "code",
      "metadata": {
        "id": "-cPJEPTlZHWZ",
        "colab": {
          "base_uri": "https://localhost:8080/"
        },
        "outputId": "b5bba207-243b-4838-ced1-7070de528897"
      },
      "source": [
        "# If the ngrokToken is stored in a private file in GDrive, use this route\n",
        "from google.colab import drive\n",
        "drive.mount('/content/drive')\n",
        "\n",
        "#!ls /content/drive/'My Drive'/Praxis/WebCredentials\n",
        "!cp /content/drive/'My Drive'/Praxis/WebCredentials/ngrokToken.py .\n",
        "# credential file for Prithwis Mukerjee\n",
        "# this file needs to be uploaded into the VM\n",
        "#!cat ngrokToken.py\n",
        "\n",
        "from ngrokToken import ngrokToken"
      ],
      "execution_count": 1,
      "outputs": [
        {
          "output_type": "stream",
          "name": "stdout",
          "text": [
            "Mounted at /content/drive\n"
          ]
        }
      ]
    },
    {
      "cell_type": "code",
      "metadata": {
        "id": "b9SSlpYOajyi"
      },
      "source": [
        "#otherwise, the values can be directly placed here\n",
        "\n",
        "#ngrokToken = '1kUOcwwwwwwwwRHsdVJRGMeTdddddddddddYbPZhxod'   # uncomment this line and place your own credentials here\n",
        "#token is available at https://dashboard.ngrok.com/get-started/setup\n",
        "\n",
        "\n",
        "#print(ngrokToken)\n",
        "\n"
      ],
      "execution_count": null,
      "outputs": []
    },
    {
      "cell_type": "code",
      "source": [
        "#ngrokTokenCmd = './ngrok authtoken '+ngrokToken    # Deprecated\n",
        "ngrokTokenCmd = 'ngrok authtoken '+ngrokToken"
      ],
      "metadata": {
        "id": "F302_AofA-_Z"
      },
      "execution_count": 2,
      "outputs": []
    },
    {
      "cell_type": "markdown",
      "metadata": {
        "id": "G7CmUsI_oT34"
      },
      "source": [
        "##Install ngrok using Python wrapper <br>\n",
        "this code adapted from https://towardsdatascience.com/quickly-share-ml-webapps-from-google-colab-using-ngrok-for-free-ae899ca2661a"
      ]
    },
    {
      "cell_type": "code",
      "metadata": {
        "id": "ZkGDRme4opqW",
        "colab": {
          "base_uri": "https://localhost:8080/"
        },
        "outputId": "745b4869-1ae2-4b6f-a55a-b1d3724c9c5f"
      },
      "source": [
        "!pip -q install pyngrok"
      ],
      "execution_count": 3,
      "outputs": [
        {
          "output_type": "stream",
          "name": "stdout",
          "text": [
            "\u001b[?25l\r\u001b[K     |▍                               | 10 kB 24.4 MB/s eta 0:00:01\r\u001b[K     |▉                               | 20 kB 6.9 MB/s eta 0:00:01\r\u001b[K     |█▎                              | 30 kB 9.8 MB/s eta 0:00:01\r\u001b[K     |█▊                              | 40 kB 4.6 MB/s eta 0:00:01\r\u001b[K     |██▏                             | 51 kB 4.5 MB/s eta 0:00:01\r\u001b[K     |██▋                             | 61 kB 5.2 MB/s eta 0:00:01\r\u001b[K     |███                             | 71 kB 5.7 MB/s eta 0:00:01\r\u001b[K     |███▍                            | 81 kB 6.4 MB/s eta 0:00:01\r\u001b[K     |███▉                            | 92 kB 6.7 MB/s eta 0:00:01\r\u001b[K     |████▎                           | 102 kB 5.4 MB/s eta 0:00:01\r\u001b[K     |████▊                           | 112 kB 5.4 MB/s eta 0:00:01\r\u001b[K     |█████▏                          | 122 kB 5.4 MB/s eta 0:00:01\r\u001b[K     |█████▋                          | 133 kB 5.4 MB/s eta 0:00:01\r\u001b[K     |██████                          | 143 kB 5.4 MB/s eta 0:00:01\r\u001b[K     |██████▌                         | 153 kB 5.4 MB/s eta 0:00:01\r\u001b[K     |██████▉                         | 163 kB 5.4 MB/s eta 0:00:01\r\u001b[K     |███████▎                        | 174 kB 5.4 MB/s eta 0:00:01\r\u001b[K     |███████▊                        | 184 kB 5.4 MB/s eta 0:00:01\r\u001b[K     |████████▏                       | 194 kB 5.4 MB/s eta 0:00:01\r\u001b[K     |████████▋                       | 204 kB 5.4 MB/s eta 0:00:01\r\u001b[K     |█████████                       | 215 kB 5.4 MB/s eta 0:00:01\r\u001b[K     |█████████▌                      | 225 kB 5.4 MB/s eta 0:00:01\r\u001b[K     |██████████                      | 235 kB 5.4 MB/s eta 0:00:01\r\u001b[K     |██████████▎                     | 245 kB 5.4 MB/s eta 0:00:01\r\u001b[K     |██████████▊                     | 256 kB 5.4 MB/s eta 0:00:01\r\u001b[K     |███████████▏                    | 266 kB 5.4 MB/s eta 0:00:01\r\u001b[K     |███████████▋                    | 276 kB 5.4 MB/s eta 0:00:01\r\u001b[K     |████████████                    | 286 kB 5.4 MB/s eta 0:00:01\r\u001b[K     |████████████▌                   | 296 kB 5.4 MB/s eta 0:00:01\r\u001b[K     |█████████████                   | 307 kB 5.4 MB/s eta 0:00:01\r\u001b[K     |█████████████▍                  | 317 kB 5.4 MB/s eta 0:00:01\r\u001b[K     |█████████████▊                  | 327 kB 5.4 MB/s eta 0:00:01\r\u001b[K     |██████████████▏                 | 337 kB 5.4 MB/s eta 0:00:01\r\u001b[K     |██████████████▋                 | 348 kB 5.4 MB/s eta 0:00:01\r\u001b[K     |███████████████                 | 358 kB 5.4 MB/s eta 0:00:01\r\u001b[K     |███████████████▌                | 368 kB 5.4 MB/s eta 0:00:01\r\u001b[K     |████████████████                | 378 kB 5.4 MB/s eta 0:00:01\r\u001b[K     |████████████████▍               | 389 kB 5.4 MB/s eta 0:00:01\r\u001b[K     |████████████████▉               | 399 kB 5.4 MB/s eta 0:00:01\r\u001b[K     |█████████████████▏              | 409 kB 5.4 MB/s eta 0:00:01\r\u001b[K     |█████████████████▋              | 419 kB 5.4 MB/s eta 0:00:01\r\u001b[K     |██████████████████              | 430 kB 5.4 MB/s eta 0:00:01\r\u001b[K     |██████████████████▌             | 440 kB 5.4 MB/s eta 0:00:01\r\u001b[K     |███████████████████             | 450 kB 5.4 MB/s eta 0:00:01\r\u001b[K     |███████████████████▍            | 460 kB 5.4 MB/s eta 0:00:01\r\u001b[K     |███████████████████▉            | 471 kB 5.4 MB/s eta 0:00:01\r\u001b[K     |████████████████████▎           | 481 kB 5.4 MB/s eta 0:00:01\r\u001b[K     |████████████████████▋           | 491 kB 5.4 MB/s eta 0:00:01\r\u001b[K     |█████████████████████           | 501 kB 5.4 MB/s eta 0:00:01\r\u001b[K     |█████████████████████▌          | 512 kB 5.4 MB/s eta 0:00:01\r\u001b[K     |██████████████████████          | 522 kB 5.4 MB/s eta 0:00:01\r\u001b[K     |██████████████████████▍         | 532 kB 5.4 MB/s eta 0:00:01\r\u001b[K     |██████████████████████▉         | 542 kB 5.4 MB/s eta 0:00:01\r\u001b[K     |███████████████████████▎        | 552 kB 5.4 MB/s eta 0:00:01\r\u001b[K     |███████████████████████▊        | 563 kB 5.4 MB/s eta 0:00:01\r\u001b[K     |████████████████████████        | 573 kB 5.4 MB/s eta 0:00:01\r\u001b[K     |████████████████████████▌       | 583 kB 5.4 MB/s eta 0:00:01\r\u001b[K     |█████████████████████████       | 593 kB 5.4 MB/s eta 0:00:01\r\u001b[K     |█████████████████████████▍      | 604 kB 5.4 MB/s eta 0:00:01\r\u001b[K     |█████████████████████████▉      | 614 kB 5.4 MB/s eta 0:00:01\r\u001b[K     |██████████████████████████▎     | 624 kB 5.4 MB/s eta 0:00:01\r\u001b[K     |██████████████████████████▊     | 634 kB 5.4 MB/s eta 0:00:01\r\u001b[K     |███████████████████████████▏    | 645 kB 5.4 MB/s eta 0:00:01\r\u001b[K     |███████████████████████████▌    | 655 kB 5.4 MB/s eta 0:00:01\r\u001b[K     |████████████████████████████    | 665 kB 5.4 MB/s eta 0:00:01\r\u001b[K     |████████████████████████████▍   | 675 kB 5.4 MB/s eta 0:00:01\r\u001b[K     |████████████████████████████▉   | 686 kB 5.4 MB/s eta 0:00:01\r\u001b[K     |█████████████████████████████▎  | 696 kB 5.4 MB/s eta 0:00:01\r\u001b[K     |█████████████████████████████▊  | 706 kB 5.4 MB/s eta 0:00:01\r\u001b[K     |██████████████████████████████▏ | 716 kB 5.4 MB/s eta 0:00:01\r\u001b[K     |██████████████████████████████▋ | 727 kB 5.4 MB/s eta 0:00:01\r\u001b[K     |███████████████████████████████ | 737 kB 5.4 MB/s eta 0:00:01\r\u001b[K     |███████████████████████████████▍| 747 kB 5.4 MB/s eta 0:00:01\r\u001b[K     |███████████████████████████████▉| 757 kB 5.4 MB/s eta 0:00:01\r\u001b[K     |████████████████████████████████| 761 kB 5.4 MB/s \n",
            "\u001b[?25h  Building wheel for pyngrok (setup.py) ... \u001b[?25l\u001b[?25hdone\n"
          ]
        }
      ]
    },
    {
      "cell_type": "code",
      "metadata": {
        "id": "9AYyUZ89pJNW"
      },
      "source": [
        "#install the ngrok token \n",
        "from pyngrok import ngrok\n",
        "get_ipython().system_raw(ngrokTokenCmd)"
      ],
      "execution_count": 4,
      "outputs": []
    },
    {
      "cell_type": "markdown",
      "source": [
        "#Web Apps\n",
        "Here we build python flask web apps that can be called as an API<br>\n",
        "Before running any WebApp, we need to create an ngrok TUNNEL that will connect the port defined in the webapp to the external URL through a public URL"
      ],
      "metadata": {
        "id": "q1r4mxQZz1f8"
      }
    },
    {
      "cell_type": "markdown",
      "metadata": {
        "id": "lzVGEgEbcxbg"
      },
      "source": [
        "##WebApp 01 - Hello World <br>\n",
        "Basic application that simply shows the webserver is working.\n",
        "<hr>\n"
      ]
    },
    {
      "cell_type": "markdown",
      "source": [
        "![alt text](https://raw.githubusercontent.com/Praxis-QR/DEMD/main/screenshots/webapp01.png)<br>"
      ],
      "metadata": {
        "id": "JakN9x9Yy8rI"
      }
    },
    {
      "cell_type": "code",
      "metadata": {
        "id": "0XeeUv3Ddbw1",
        "outputId": "cac34a25-81df-490e-bd2f-b7faab1bd9bb",
        "colab": {
          "base_uri": "https://localhost:8080/"
        }
      },
      "source": [
        "#Create an ngrok tunnel to port 5000 and print its public URL\n",
        "public_url = ngrok.connect(5000)                        # assuming that WebApps will run on port 5000\n",
        "public_url"
      ],
      "execution_count": 5,
      "outputs": [
        {
          "output_type": "execute_result",
          "data": {
            "text/plain": [
              "<NgrokTunnel: \"http://af58-104-155-191-113.ngrok.io\" -> \"http://localhost:5000\">"
            ]
          },
          "metadata": {},
          "execution_count": 5
        }
      ]
    },
    {
      "cell_type": "code",
      "metadata": {
        "id": "MywhFrKMc2hJ",
        "colab": {
          "base_uri": "https://localhost:8080/"
        },
        "outputId": "b5b79b1d-b907-48c9-e3f6-17a55cff231c"
      },
      "source": [
        "# this cell needs to be killed when you want to stop the WebApp\n",
        "# https://pythonspot.com/flask-web-app-with-python/\n",
        "\n",
        "from sys import argv\n",
        "from flask import Flask\n",
        "app = Flask(__name__)\n",
        "scriptName = argv[0]\n",
        "\n",
        "@app.route(\"/\")\n",
        "def hello():\n",
        "    retString = 'Praxis Web App 01 now running ... '+scriptName\n",
        "    return retString\n",
        " \n",
        "if __name__ == \"__main__\":\n",
        "    app.run(host=\"0.0.0.0\")"
      ],
      "execution_count": 6,
      "outputs": [
        {
          "output_type": "stream",
          "name": "stdout",
          "text": [
            " * Serving Flask app \"__main__\" (lazy loading)\n",
            " * Environment: production\n",
            "\u001b[31m   WARNING: This is a development server. Do not use it in a production deployment.\u001b[0m\n",
            "\u001b[2m   Use a production WSGI server instead.\u001b[0m\n",
            " * Debug mode: off\n"
          ]
        },
        {
          "output_type": "stream",
          "name": "stderr",
          "text": [
            "INFO:werkzeug: * Running on http://0.0.0.0:5000/ (Press CTRL+C to quit)\n",
            "INFO:werkzeug:127.0.0.1 - - [21/Dec/2022 07:55:22] \"\u001b[37mGET / HTTP/1.1\u001b[0m\" 200 -\n",
            "INFO:werkzeug:127.0.0.1 - - [21/Dec/2022 07:55:22] \"\u001b[33mGET /favicon.ico HTTP/1.1\u001b[0m\" 404 -\n"
          ]
        }
      ]
    },
    {
      "cell_type": "markdown",
      "metadata": {
        "id": "lgDAZRTSWyK2"
      },
      "source": [
        "Web apps need additionl files for HTML, images, data etc that need to be stored on appropriate directories. These files can either be created in a local machine and uploaded into the appropriate directory, or ( as is being done here) copied from files stored in Github. <br>\n",
        "These files need to be stored in specific subdirectories. We create sub-directories, download the files from Github / GDrive and then move them to the required sub directories"
      ]
    },
    {
      "cell_type": "code",
      "metadata": {
        "id": "Me8szMxyj1ol"
      },
      "source": [
        "# Create new directory template\n",
        "!mkdir templates\n",
        "\n",
        "# Originally stored in G-Drive\n",
        "#!gdown https://drive.google.com/uc?id=1rJ3LLAv6M3kvLko0mIE38QrnjqCK3Up_\n",
        "#!gdown https://drive.google.com/uc?id=1-ncwBB5qKiZmQ0VOnCDiqLw2pDnqRddg\n",
        "\n",
        "# Now Stored and Pulled from GitHub\n",
        "!wget -q https://raw.githubusercontent.com/Praxis-bs/DEMD/main/templates/home.html\n",
        "!wget -q https://raw.githubusercontent.com/Praxis-bs/DEMD/main/templates/work.html\n",
        "\n",
        "!mv *.html templates/\n",
        "#!cat templates/home.html"
      ],
      "execution_count": null,
      "outputs": []
    },
    {
      "cell_type": "code",
      "metadata": {
        "id": "48fn0ycSl4NA",
        "colab": {
          "base_uri": "https://localhost:8080/"
        },
        "outputId": "b0171f77-2974-49d9-ebf3-dbd7900e17dd"
      },
      "source": [
        "# visit the public_url/home to see the index page\n",
        "public_url = ngrok.connect(5000)                        \n",
        "public_url\n"
      ],
      "execution_count": null,
      "outputs": [
        {
          "output_type": "execute_result",
          "data": {
            "text/plain": [
              "<NgrokTunnel: \"http://725b-34-75-146-12.ngrok.io\" -> \"http://localhost:5000\">"
            ]
          },
          "metadata": {},
          "execution_count": 8
        }
      ]
    },
    {
      "cell_type": "code",
      "metadata": {
        "id": "iWWOvecLllng",
        "colab": {
          "base_uri": "https://localhost:8080/"
        },
        "outputId": "b5a778c9-e02d-474e-d8a7-210d0e20c2dc"
      },
      "source": [
        "# https://pythonspot.com/flask-web-app-with-python/\n",
        "\n",
        "from sys import argv\n",
        "from flask import Flask, flash, redirect, render_template, request, session, abort\n",
        "\n",
        "app = Flask(__name__)\n",
        "scriptName = argv[0]\n",
        "\n",
        "@app.route(\"/\")\n",
        "def hello():\n",
        "    retString = 'WebApp02 now running ... '+scriptName\n",
        "    return retString\n",
        "\n",
        "@app.route('/home')\n",
        "def home():\n",
        "    return render_template('home.html')\n",
        "\n",
        "\n",
        "if __name__ == \"__main__\":\n",
        "    app.run(host=\"0.0.0.0\")"
      ],
      "execution_count": null,
      "outputs": [
        {
          "output_type": "stream",
          "name": "stdout",
          "text": [
            " * Serving Flask app \"__main__\" (lazy loading)\n",
            " * Environment: production\n",
            "\u001b[31m   WARNING: This is a development server. Do not use it in a production deployment.\u001b[0m\n",
            "\u001b[2m   Use a production WSGI server instead.\u001b[0m\n",
            " * Debug mode: off\n"
          ]
        },
        {
          "output_type": "stream",
          "name": "stderr",
          "text": [
            " * Running on http://0.0.0.0:5000/ (Press CTRL+C to quit)\n",
            "127.0.0.1 - - [27/Jul/2022 13:17:20] \"\u001b[37mGET / HTTP/1.1\u001b[0m\" 200 -\n",
            "127.0.0.1 - - [27/Jul/2022 13:17:20] \"\u001b[33mGET /favicon.ico HTTP/1.1\u001b[0m\" 404 -\n",
            "127.0.0.1 - - [27/Jul/2022 13:17:28] \"\u001b[37mGET /home HTTP/1.1\u001b[0m\" 200 -\n",
            "127.0.0.1 - - [27/Jul/2022 13:17:28] \"\u001b[33mGET /favicon.ico HTTP/1.1\u001b[0m\" 404 -\n"
          ]
        }
      ]
    },
    {
      "cell_type": "markdown",
      "metadata": {
        "id": "tw00lLMTmt9m"
      },
      "source": [
        "##WebApp 03 - HTML pages with image"
      ]
    },
    {
      "cell_type": "markdown",
      "source": [
        "![alt text](https://raw.githubusercontent.com/Praxis-QR/DEMD/main/screenshots/webapp03.png)<br>"
      ],
      "metadata": {
        "id": "j8KQUfNZ1Fhz"
      }
    },
    {
      "cell_type": "code",
      "metadata": {
        "id": "uOOorm-amzNO"
      },
      "source": [
        "# new directory for images\n",
        "!mkdir static\n",
        "\n",
        "#!gdown https://drive.google.com/uc?id=1dEcZxMotndHNglu14240GYBgLdIYaTcB\n",
        "#!gdown https://drive.google.com/uc?id=1cImOiQvpE61c6Wy074Ly1E_yBVaDr5-f\n",
        "#!gdown https://drive.google.com/uc?id=1ohWMGJyl79xpVJ64yO8qFlCpgH08v71t\n",
        "\n",
        "# Pulling from GitHub\n",
        "\n",
        "\n",
        "!wget -q https://github.com/Praxis-bs/DEMD/raw/main/static/kkpraxis.png\n",
        "!wget -q https://raw.githubusercontent.com/Praxis-bs/DEMD/main/templates/work01.html\n",
        "!wget -q https://raw.githubusercontent.com/Praxis-bs/DEMD/main/templates/work02.html\n",
        "\n",
        "!mv kkpraxis.png static/\n",
        "!mv *.html templates/"
      ],
      "execution_count": null,
      "outputs": []
    },
    {
      "cell_type": "code",
      "metadata": {
        "id": "vpN8EULMqWLL",
        "outputId": "ae5579bd-9d50-49bf-bd1c-109d33920fc6",
        "colab": {
          "base_uri": "https://localhost:8080/"
        }
      },
      "source": [
        "# visit the public_url/home to see the index page\n",
        "# visit the public_url/datatext/some text data  --- to see \n",
        "# visit the public_url/datanumber/10  --- to see how integer data is processed \n",
        "\n",
        "public_url = ngrok.connect(5000)                        # option 2\n",
        "public_url\n"
      ],
      "execution_count": null,
      "outputs": [
        {
          "output_type": "execute_result",
          "data": {
            "text/plain": [
              "<NgrokTunnel: \"http://96d2-34-75-146-12.ngrok.io\" -> \"http://localhost:5000\">"
            ]
          },
          "metadata": {},
          "execution_count": 11
        }
      ]
    },
    {
      "cell_type": "code",
      "metadata": {
        "id": "imwY40BGqNDR",
        "outputId": "e6fb6b12-1d24-4230-dce3-088b51039b04",
        "colab": {
          "base_uri": "https://localhost:8080/"
        }
      },
      "source": [
        "# https://pythonspot.com/flask-web-app-with-python/\n",
        "\n",
        "from sys import argv\n",
        "from flask import Flask, flash, redirect, render_template, request, session, abort\n",
        "\n",
        "app = Flask(__name__)\n",
        "scriptName = argv[0]\n",
        "\n",
        "@app.route(\"/\")\n",
        "def hello():\n",
        "    retString = 'WebApp 03 now running ... '+scriptName\n",
        "    return retString\n",
        "\n",
        "@app.route('/home')\n",
        "def home():\n",
        "    return render_template('home.html')\n",
        "\n",
        "@app.route('/datatext/<inputText>')\n",
        "def say_hello(inputText):\n",
        "    return render_template('work01.html',text_data=inputText)\n",
        "\n",
        "@app.route('/datanumber/<int:inputInt>')\n",
        "def data_input(inputInt):\n",
        "    newVar = 2 * inputInt\n",
        "    return render_template('work02.html',int_data=newVar)\n",
        "\n",
        "\n",
        "if __name__ == \"__main__\":\n",
        "    app.run(host=\"0.0.0.0\")"
      ],
      "execution_count": null,
      "outputs": [
        {
          "output_type": "stream",
          "name": "stdout",
          "text": [
            " * Serving Flask app \"__main__\" (lazy loading)\n",
            " * Environment: production\n",
            "\u001b[31m   WARNING: This is a development server. Do not use it in a production deployment.\u001b[0m\n",
            "\u001b[2m   Use a production WSGI server instead.\u001b[0m\n",
            " * Debug mode: off\n"
          ]
        },
        {
          "output_type": "stream",
          "name": "stderr",
          "text": [
            " * Running on http://0.0.0.0:5000/ (Press CTRL+C to quit)\n",
            "127.0.0.1 - - [27/Jul/2022 13:21:38] \"\u001b[37mGET / HTTP/1.1\u001b[0m\" 200 -\n",
            "127.0.0.1 - - [27/Jul/2022 13:21:39] \"\u001b[33mGET /favicon.ico HTTP/1.1\u001b[0m\" 404 -\n",
            "127.0.0.1 - - [27/Jul/2022 13:21:46] \"\u001b[37mGET /home HTTP/1.1\u001b[0m\" 200 -\n",
            "127.0.0.1 - - [27/Jul/2022 13:21:46] \"\u001b[33mGET /favicon.ico HTTP/1.1\u001b[0m\" 404 -\n",
            "127.0.0.1 - - [27/Jul/2022 13:22:18] \"\u001b[37mGET /datatext/Celebrate%20Your%20Worth%20at%20Praxis HTTP/1.1\u001b[0m\" 200 -\n",
            "127.0.0.1 - - [27/Jul/2022 13:22:18] \"\u001b[37mGET /static/kkpraxis.png HTTP/1.1\u001b[0m\" 200 -\n"
          ]
        }
      ]
    },
    {
      "cell_type": "markdown",
      "metadata": {
        "id": "W3qK5YHXZWqT"
      },
      "source": [
        "#Chronobooks <br>\n",
        "![alt text](https://1.bp.blogspot.com/-lTiYBkU2qbU/X1er__fvnkI/AAAAAAAAjtE/GhDR3OEGJr4NG43fZPodrQD5kbxtnKebgCLcBGAsYHQ/s600/Footer2020-600x200.png)<hr>\n",
        "Chronotantra and Chronoyantra are two science fiction novels that explore the collapse of human civilisation on Earth and then its rebirth and reincarnation both on Earth as well as on the distant worlds of Mars, Titan and Enceladus. But is it the human civilisation that is being reborn? Or is it some other sentience that is revealing itself. \n",
        "If you have an interest in AI and found this material useful, you may consider buying these novels, in paperback or kindle, from [http://bit.ly/chronobooks](http://bit.ly/chronobooks)"
      ]
    }
  ]
}